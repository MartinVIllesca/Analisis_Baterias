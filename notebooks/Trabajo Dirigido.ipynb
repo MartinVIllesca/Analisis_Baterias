{
 "cells": [
  {
   "cell_type": "markdown",
   "metadata": {},
   "source": [
    "# Análisis de Baterías\n",
    "\n",
    "Este análisis se realiza en la inspiración de poder estimar parámetros de la batería, en este caso el estado de salud de la misma"
   ]
  },
  {
   "cell_type": "code",
   "execution_count": 112,
   "metadata": {},
   "outputs": [],
   "source": [
    "import sys\n",
    "sys.path.append(\"../scripts/\")\n",
    "from funciones_paralectura import carga_de_datos, transformar_datos\n",
    "import numpy as np\n",
    "import matplotlib.pyplot as plt\n",
    "from mpl_toolkits.mplot3d import Axes3D\n",
    "import pandas as pd\n"
   ]
  },
  {
   "cell_type": "markdown",
   "metadata": {},
   "source": [
    "## Recolección de datos\n",
    "\n",
    "Los datos son cargados en un DataFrame de Pandas, donde columnas corresponden a series de tiempo con la información necesaria de cada salto, además de contener el ciclo al que pertenencen."
   ]
  },
  {
   "cell_type": "code",
   "execution_count": 113,
   "metadata": {
    "scrolled": true
   },
   "outputs": [
    {
     "name": "stdout",
     "output_type": "stream",
     "text": [
      "carga de datos de bateria RW5.mat\n",
      "tiempo len: 743\n",
      "voltage len: 743\n",
      "current len: 743\n",
      "temperatura len: 743\n",
      "Tiempo absoluto len: 743\n",
      "carga de datos de bateria RW4.mat\n",
      "tiempo len: 728\n",
      "voltage len: 728\n",
      "current len: 728\n",
      "temperatura len: 728\n",
      "Tiempo absoluto len: 728\n"
     ]
    }
   ],
   "source": [
    "# carga de caminata aleatoria\n",
    "documento = '../../Battery_Uniform_Distribution_Discharge_Room_Temp_DataSet_2Post/data/Matlab/RW5.mat'\n",
    "documento_2 = '../../Battery_Uniform_Distribution_Discharge_Room_Temp_DataSet_2Post/data/Matlab/RW4.mat'\n",
    "comentarios = ['discharge (random walk)',\n",
    "               'rest (random walk)',\n",
    "               'rest post random walk discharge']\n",
    "comentario_final = ['charge (after random walk discharge)']\n",
    "t, v, c, temp, T = carga_de_datos(documento, comentarios, comentario_final, nofinal=False)\n",
    "t_2, v_2, c_2, temp_2, T_2 = carga_de_datos(documento_2, comentarios, comentario_final, nofinal=False)"
   ]
  },
  {
   "cell_type": "markdown",
   "metadata": {},
   "source": [
    "## Preparación de los datos\n",
    "\n",
    "Los datos cargados son transformados para calzar en un dataframe con las series de tiempo en función del ciclo. Es decir, se carga un salto por fila del dataframe y el salto contiene la información del voltaje hasta la corriente no nula anterior, donde se almacenan de igual forma la temperatura y el voltaje de ese instante hasta que cambia la corriente a cero."
   ]
  },
  {
   "cell_type": "code",
   "execution_count": 114,
   "metadata": {
    "scrolled": true
   },
   "outputs": [
    {
     "name": "stdout",
     "output_type": "stream",
     "text": [
      "ciclo 741     "
     ]
    },
    {
     "data": {
      "text/html": [
       "<div>\n",
       "<style scoped>\n",
       "    .dataframe tbody tr th:only-of-type {\n",
       "        vertical-align: middle;\n",
       "    }\n",
       "\n",
       "    .dataframe tbody tr th {\n",
       "        vertical-align: top;\n",
       "    }\n",
       "\n",
       "    .dataframe thead th {\n",
       "        text-align: right;\n",
       "    }\n",
       "</style>\n",
       "<table border=\"1\" class=\"dataframe\">\n",
       "  <thead>\n",
       "    <tr style=\"text-align: right;\">\n",
       "      <th></th>\n",
       "      <th>ciclo</th>\n",
       "      <th>energia</th>\n",
       "      <th>magnitud</th>\n",
       "      <th>media</th>\n",
       "      <th>voltaje</th>\n",
       "      <th>corriente</th>\n",
       "      <th>temperatura</th>\n",
       "      <th>tiempo</th>\n",
       "      <th>temp_ini</th>\n",
       "    </tr>\n",
       "  </thead>\n",
       "  <tbody>\n",
       "    <tr>\n",
       "      <th>0</th>\n",
       "      <td>1</td>\n",
       "      <td>0.614047</td>\n",
       "      <td>4.005</td>\n",
       "      <td>2.0025</td>\n",
       "      <td>[4.199, 4.199, 3.833, 3.809, 3.801, 3.795, 3.7...</td>\n",
       "      <td>[0.0, 0.0, 4.005, 3.999, 4.0, 3.999, 4.0, 4.0,...</td>\n",
       "      <td>[20.61039, 20.61039, 20.61039, 20.62594, 20.62...</td>\n",
       "      <td>[274884.25, 274884.5, 274884.54, 274885.540000...</td>\n",
       "      <td>20.61039</td>\n",
       "    </tr>\n",
       "    <tr>\n",
       "      <th>1</th>\n",
       "      <td>1</td>\n",
       "      <td>4266.690109</td>\n",
       "      <td>2.007</td>\n",
       "      <td>1.0035</td>\n",
       "      <td>[3.512, 3.817, 3.842, 3.683, 3.688, 3.693, 3.6...</td>\n",
       "      <td>[4.0, 0.0, 0.0, 2.007, 2.0, 2.0, 2.0, 2.0, 2.0...</td>\n",
       "      <td>[28.18093, 28.18093, 28.18093, 28.18093, 28.21...</td>\n",
       "      <td>[275184.5, 275184.50999999995, 275184.7, 27518...</td>\n",
       "      <td>28.18093</td>\n",
       "    </tr>\n",
       "    <tr>\n",
       "      <th>2</th>\n",
       "      <td>1</td>\n",
       "      <td>6510.697143</td>\n",
       "      <td>1.503</td>\n",
       "      <td>0.7515</td>\n",
       "      <td>[3.72, 3.868, 3.879, 3.763, 3.762, 3.763, 3.76...</td>\n",
       "      <td>[2.0, 0.0, 0.0, 1.503, 1.5, 1.5, 1.5, 1.5, 1.5...</td>\n",
       "      <td>[28.36748, 28.36748, 28.36748, 28.36748, 28.35...</td>\n",
       "      <td>[275484.7, 275484.71, 275485.35, 275485.39, 27...</td>\n",
       "      <td>28.36748</td>\n",
       "    </tr>\n",
       "    <tr>\n",
       "      <th>3</th>\n",
       "      <td>1</td>\n",
       "      <td>8200.072656</td>\n",
       "      <td>2.504</td>\n",
       "      <td>1.2520</td>\n",
       "      <td>[3.733, 3.846, 3.854, 3.657, 3.652, 3.65, 3.64...</td>\n",
       "      <td>[1.5, 0.0, 0.0, 2.504, 2.5, 2.5, 2.5, 2.499, 2...</td>\n",
       "      <td>[27.24822, 27.24822, 27.23267, 27.23267, 27.23...</td>\n",
       "      <td>[275785.35, 275785.36, 275785.81, 275785.85, 2...</td>\n",
       "      <td>27.24822</td>\n",
       "    </tr>\n",
       "    <tr>\n",
       "      <th>4</th>\n",
       "      <td>1</td>\n",
       "      <td>10884.859898</td>\n",
       "      <td>0.504</td>\n",
       "      <td>0.2520</td>\n",
       "      <td>[3.543, 3.731, 3.747, 3.708, 3.711, 3.715, 3.7...</td>\n",
       "      <td>[2.5, 0.0, 0.0, 0.504, 0.5, 0.5, 0.5, 0.5, 0.5...</td>\n",
       "      <td>[28.07212, 28.07212, 28.07212, 28.07212, 28.07...</td>\n",
       "      <td>[276085.81, 276085.82, 276086.28, 276086.33, 2...</td>\n",
       "      <td>28.07212</td>\n",
       "    </tr>\n",
       "  </tbody>\n",
       "</table>\n",
       "</div>"
      ],
      "text/plain": [
       "   ciclo       energia  magnitud   media  \\\n",
       "0      1      0.614047     4.005  2.0025   \n",
       "1      1   4266.690109     2.007  1.0035   \n",
       "2      1   6510.697143     1.503  0.7515   \n",
       "3      1   8200.072656     2.504  1.2520   \n",
       "4      1  10884.859898     0.504  0.2520   \n",
       "\n",
       "                                             voltaje  \\\n",
       "0  [4.199, 4.199, 3.833, 3.809, 3.801, 3.795, 3.7...   \n",
       "1  [3.512, 3.817, 3.842, 3.683, 3.688, 3.693, 3.6...   \n",
       "2  [3.72, 3.868, 3.879, 3.763, 3.762, 3.763, 3.76...   \n",
       "3  [3.733, 3.846, 3.854, 3.657, 3.652, 3.65, 3.64...   \n",
       "4  [3.543, 3.731, 3.747, 3.708, 3.711, 3.715, 3.7...   \n",
       "\n",
       "                                           corriente  \\\n",
       "0  [0.0, 0.0, 4.005, 3.999, 4.0, 3.999, 4.0, 4.0,...   \n",
       "1  [4.0, 0.0, 0.0, 2.007, 2.0, 2.0, 2.0, 2.0, 2.0...   \n",
       "2  [2.0, 0.0, 0.0, 1.503, 1.5, 1.5, 1.5, 1.5, 1.5...   \n",
       "3  [1.5, 0.0, 0.0, 2.504, 2.5, 2.5, 2.5, 2.499, 2...   \n",
       "4  [2.5, 0.0, 0.0, 0.504, 0.5, 0.5, 0.5, 0.5, 0.5...   \n",
       "\n",
       "                                         temperatura  \\\n",
       "0  [20.61039, 20.61039, 20.61039, 20.62594, 20.62...   \n",
       "1  [28.18093, 28.18093, 28.18093, 28.18093, 28.21...   \n",
       "2  [28.36748, 28.36748, 28.36748, 28.36748, 28.35...   \n",
       "3  [27.24822, 27.24822, 27.23267, 27.23267, 27.23...   \n",
       "4  [28.07212, 28.07212, 28.07212, 28.07212, 28.07...   \n",
       "\n",
       "                                              tiempo  temp_ini  \n",
       "0  [274884.25, 274884.5, 274884.54, 274885.540000...  20.61039  \n",
       "1  [275184.5, 275184.50999999995, 275184.7, 27518...  28.18093  \n",
       "2  [275484.7, 275484.71, 275485.35, 275485.39, 27...  28.36748  \n",
       "3  [275785.35, 275785.36, 275785.81, 275785.85, 2...  27.24822  \n",
       "4  [276085.81, 276085.82, 276086.28, 276086.33, 2...  28.07212  "
      ]
     },
     "execution_count": 114,
     "metadata": {},
     "output_type": "execute_result"
    }
   ],
   "source": [
    "[arr_dif_salto_c,\n",
    " arr_pot_salto,\n",
    " arr_centro_salto_c,\n",
    " arr_ciclo_salto,\n",
    " arr_voltaje_salto,\n",
    " arr_corriente_salto,\n",
    " arr_tiempo_salto,\n",
    " arr_temperatura_salto] = transformar_datos(t, v, c, temp, T)\n",
    "\n",
    "\n",
    "saltos = {'ciclo': arr_ciclo_salto,\n",
    "          'energia': arr_pot_salto,\n",
    "          'magnitud': arr_dif_salto_c,\n",
    "          'media': arr_centro_salto_c}\n",
    "\n",
    "df = pd.DataFrame(saltos, columns=['ciclo', 'energia', 'magnitud', 'media'])\n",
    "\n",
    "df['voltaje'] = [x for x in arr_voltaje_salto]\n",
    "df['corriente'] = [x for x in arr_corriente_salto]\n",
    "df['temperatura'] = [x for x in arr_temperatura_salto]\n",
    "df['tiempo'] = [x for x in arr_tiempo_salto]\n",
    "df['temp_ini'] = [x[0] for x in df['temperatura']]\n",
    "\n",
    "df.head()"
   ]
  },
  {
   "cell_type": "code",
   "execution_count": 115,
   "metadata": {
    "scrolled": true
   },
   "outputs": [
    {
     "name": "stdout",
     "output_type": "stream",
     "text": [
      "ciclo 726     "
     ]
    },
    {
     "data": {
      "text/html": [
       "<div>\n",
       "<style scoped>\n",
       "    .dataframe tbody tr th:only-of-type {\n",
       "        vertical-align: middle;\n",
       "    }\n",
       "\n",
       "    .dataframe tbody tr th {\n",
       "        vertical-align: top;\n",
       "    }\n",
       "\n",
       "    .dataframe thead th {\n",
       "        text-align: right;\n",
       "    }\n",
       "</style>\n",
       "<table border=\"1\" class=\"dataframe\">\n",
       "  <thead>\n",
       "    <tr style=\"text-align: right;\">\n",
       "      <th></th>\n",
       "      <th>ciclo</th>\n",
       "      <th>energia</th>\n",
       "      <th>magnitud</th>\n",
       "      <th>media</th>\n",
       "      <th>voltaje</th>\n",
       "      <th>corriente</th>\n",
       "      <th>temperatura</th>\n",
       "      <th>tiempo</th>\n",
       "      <th>temp_ini</th>\n",
       "    </tr>\n",
       "  </thead>\n",
       "  <tbody>\n",
       "    <tr>\n",
       "      <th>0</th>\n",
       "      <td>1</td>\n",
       "      <td>0.614707</td>\n",
       "      <td>4.002</td>\n",
       "      <td>2.0010</td>\n",
       "      <td>[4.199, 4.199, 3.84, 3.814, 3.807, 3.8, 3.795,...</td>\n",
       "      <td>[0.0, 0.0, 4.002, 4.0, 4.0, 4.0, 4.001, 4.001,...</td>\n",
       "      <td>[21.64345, 21.64345, 21.64345, 21.64345, 21.64...</td>\n",
       "      <td>[281556.4, 281556.56000000006, 281556.6, 28155...</td>\n",
       "      <td>21.64345</td>\n",
       "    </tr>\n",
       "    <tr>\n",
       "      <th>1</th>\n",
       "      <td>1</td>\n",
       "      <td>4268.008336</td>\n",
       "      <td>0.505</td>\n",
       "      <td>0.2525</td>\n",
       "      <td>[3.514, 3.809, 3.836, 3.799, 3.81, 3.819, 3.82...</td>\n",
       "      <td>[4.0, 0.0, 0.0, 0.505, 0.5, 0.5, 0.5, 0.5, 0.5...</td>\n",
       "      <td>[28.38382, 28.38382, 28.38382, 28.38382, 28.38...</td>\n",
       "      <td>[281856.56000000006, 281856.56999999995, 28185...</td>\n",
       "      <td>28.38382</td>\n",
       "    </tr>\n",
       "    <tr>\n",
       "      <th>2</th>\n",
       "      <td>1</td>\n",
       "      <td>4858.765507</td>\n",
       "      <td>3.001</td>\n",
       "      <td>1.5005</td>\n",
       "      <td>[3.953, 3.989, 3.991, 3.762, 3.752, 3.747, 3.7...</td>\n",
       "      <td>[0.501, 0.0, 0.0, 3.001, 3.0, 3.001, 3.0, 3.0,...</td>\n",
       "      <td>[27.29416, 27.29416, 27.29416, 27.29416, 27.29...</td>\n",
       "      <td>[282156.74, 282156.75, 282156.93, 282156.97, 2...</td>\n",
       "      <td>27.29416</td>\n",
       "    </tr>\n",
       "    <tr>\n",
       "      <th>3</th>\n",
       "      <td>1</td>\n",
       "      <td>8106.905952</td>\n",
       "      <td>2.007</td>\n",
       "      <td>1.0035</td>\n",
       "      <td>[3.551, 3.769, 3.785, 3.633, 3.633, 3.635, 3.6...</td>\n",
       "      <td>[3.0, 0.0, 0.0, 2.007, 2.001, 2.001, 2.0, 2.0,...</td>\n",
       "      <td>[29.19329, 29.19329, 29.19329, 29.19329, 29.19...</td>\n",
       "      <td>[282456.93, 282456.94, 282457.11, 282457.14999...</td>\n",
       "      <td>29.19329</td>\n",
       "    </tr>\n",
       "    <tr>\n",
       "      <th>4</th>\n",
       "      <td>1</td>\n",
       "      <td>10293.294611</td>\n",
       "      <td>2.007</td>\n",
       "      <td>1.0035</td>\n",
       "      <td>[3.623, 3.767, 3.776, 3.625, 3.624, 3.624, 3.6...</td>\n",
       "      <td>[2.0, 0.0, 0.0, 2.007, 2.0, 2.0, 2.0, 2.0, 2.0...</td>\n",
       "      <td>[29.16216, 29.16216, 29.16216, 29.16216, 29.16...</td>\n",
       "      <td>[282757.11, 282757.12, 282757.29000000004, 282...</td>\n",
       "      <td>29.16216</td>\n",
       "    </tr>\n",
       "  </tbody>\n",
       "</table>\n",
       "</div>"
      ],
      "text/plain": [
       "   ciclo       energia  magnitud   media  \\\n",
       "0      1      0.614707     4.002  2.0010   \n",
       "1      1   4268.008336     0.505  0.2525   \n",
       "2      1   4858.765507     3.001  1.5005   \n",
       "3      1   8106.905952     2.007  1.0035   \n",
       "4      1  10293.294611     2.007  1.0035   \n",
       "\n",
       "                                             voltaje  \\\n",
       "0  [4.199, 4.199, 3.84, 3.814, 3.807, 3.8, 3.795,...   \n",
       "1  [3.514, 3.809, 3.836, 3.799, 3.81, 3.819, 3.82...   \n",
       "2  [3.953, 3.989, 3.991, 3.762, 3.752, 3.747, 3.7...   \n",
       "3  [3.551, 3.769, 3.785, 3.633, 3.633, 3.635, 3.6...   \n",
       "4  [3.623, 3.767, 3.776, 3.625, 3.624, 3.624, 3.6...   \n",
       "\n",
       "                                           corriente  \\\n",
       "0  [0.0, 0.0, 4.002, 4.0, 4.0, 4.0, 4.001, 4.001,...   \n",
       "1  [4.0, 0.0, 0.0, 0.505, 0.5, 0.5, 0.5, 0.5, 0.5...   \n",
       "2  [0.501, 0.0, 0.0, 3.001, 3.0, 3.001, 3.0, 3.0,...   \n",
       "3  [3.0, 0.0, 0.0, 2.007, 2.001, 2.001, 2.0, 2.0,...   \n",
       "4  [2.0, 0.0, 0.0, 2.007, 2.0, 2.0, 2.0, 2.0, 2.0...   \n",
       "\n",
       "                                         temperatura  \\\n",
       "0  [21.64345, 21.64345, 21.64345, 21.64345, 21.64...   \n",
       "1  [28.38382, 28.38382, 28.38382, 28.38382, 28.38...   \n",
       "2  [27.29416, 27.29416, 27.29416, 27.29416, 27.29...   \n",
       "3  [29.19329, 29.19329, 29.19329, 29.19329, 29.19...   \n",
       "4  [29.16216, 29.16216, 29.16216, 29.16216, 29.16...   \n",
       "\n",
       "                                              tiempo  temp_ini  \n",
       "0  [281556.4, 281556.56000000006, 281556.6, 28155...  21.64345  \n",
       "1  [281856.56000000006, 281856.56999999995, 28185...  28.38382  \n",
       "2  [282156.74, 282156.75, 282156.93, 282156.97, 2...  27.29416  \n",
       "3  [282456.93, 282456.94, 282457.11, 282457.14999...  29.19329  \n",
       "4  [282757.11, 282757.12, 282757.29000000004, 282...  29.16216  "
      ]
     },
     "execution_count": 115,
     "metadata": {},
     "output_type": "execute_result"
    }
   ],
   "source": [
    "[arr_dif_salto_c,\n",
    " arr_pot_salto,\n",
    " arr_centro_salto_c,\n",
    " arr_ciclo_salto,\n",
    " arr_voltaje_salto,\n",
    " arr_corriente_salto,\n",
    " arr_tiempo_salto,\n",
    " arr_temperatura_salto] = transformar_datos(t_2, v_2, c_2, temp_2, T_2)\n",
    "\n",
    "saltos = {'ciclo': arr_ciclo_salto,\n",
    "          'energia': arr_pot_salto,\n",
    "          'magnitud': arr_dif_salto_c,\n",
    "          'media': arr_centro_salto_c}\n",
    "df_2 = pd.DataFrame(saltos, columns=['ciclo', 'energia', 'magnitud', 'media'])\n",
    "df_2['voltaje'] = [x for x in arr_voltaje_salto]\n",
    "df_2['corriente'] = [x for x in arr_corriente_salto]\n",
    "df_2['temperatura'] = [x for x in arr_temperatura_salto]\n",
    "df_2['tiempo'] = [x for x in arr_tiempo_salto]\n",
    "df_2['temp_ini'] = [x[0] for x in df_2['temperatura']]\n",
    "\n",
    "df_2.head()"
   ]
  },
  {
   "cell_type": "markdown",
   "metadata": {},
   "source": [
    "## Visualización de datos\n",
    "\n",
    "Ahora se plotean los histogramas para verificar la correctitud de los datos tomados"
   ]
  },
  {
   "cell_type": "code",
   "execution_count": 116,
   "metadata": {
    "scrolled": true
   },
   "outputs": [
    {
     "data": {
      "image/png": "[encoded data removed]",
      "text/plain": [
       "<Figure size 432x288 with 1 Axes>"
      ]
     },
     "metadata": {
      "needs_background": "light"
     },
     "output_type": "display_data"
    }
   ],
   "source": [
    "idx = 600\n",
    "tiemposs = df.loc[(df['ciclo'] == idx), 'tiempo'].values\n",
    "corrientos = df.loc[(df['ciclo'] == idx), 'corriente'].values\n",
    "\n",
    "for i, tempp in enumerate(tiemposs):\n",
    "    plt.plot(tempp, corrientos[i])#, plt.show()#, plt.show()\n",
    "plt.show()"
   ]
  },
  {
   "cell_type": "code",
   "execution_count": 117,
   "metadata": {
    "scrolled": true
   },
   "outputs": [
    {
     "data": {
      "image/png": "[encoded data removed]",
      "text/plain": [
       "<Figure size 432x288 with 1 Axes>"
      ]
     },
     "metadata": {
      "needs_background": "light"
     },
     "output_type": "display_data"
    }
   ],
   "source": [
    "tiemposs = df.loc[(df['ciclo'] == idx), 'tiempo'].values\n",
    "voltajos = df.loc[(df['ciclo'] == idx), 'voltaje'].values\n",
    "\n",
    "for i, tempp in enumerate(tiemposs):\n",
    "    plt.plot(tempp, voltajos[i])#, plt.show()#, plt.show()\n",
    "plt.show()"
   ]
  },
  {
   "cell_type": "code",
   "execution_count": 118,
   "metadata": {
    "scrolled": true
   },
   "outputs": [
    {
     "data": {
      "image/png": "[encoded data removed]",
      "text/plain": [
       "<Figure size 432x288 with 1 Axes>"
      ]
     },
     "metadata": {
      "needs_background": "light"
     },
     "output_type": "display_data"
    },
    {
     "data": {
      "image/png": "[encoded data removed]",
      "text/plain": [
       "<Figure size 432x288 with 1 Axes>"
      ]
     },
     "metadata": {
      "needs_background": "light"
     },
     "output_type": "display_data"
    },
    {
     "data": {
      "image/png": "[encoded data removed]",
      "text/plain": [
       "<Figure size 432x288 with 1 Axes>"
      ]
     },
     "metadata": {
      "needs_background": "light"
     },
     "output_type": "display_data"
    },
    {
     "data": {
      "image/png": "[encoded data removed]",
      "text/plain": [
       "<Figure size 432x288 with 1 Axes>"
      ]
     },
     "metadata": {
      "needs_background": "light"
     },
     "output_type": "display_data"
    },
    {
     "data": {
      "image/png": "[encoded data removed]",
      "text/plain": [
       "<Figure size 432x288 with 1 Axes>"
      ]
     },
     "metadata": {
      "needs_background": "light"
     },
     "output_type": "display_data"
    },
    {
     "data": {
      "image/png": "[encoded data removed]",
      "text/plain": [
       "<Figure size 432x288 with 1 Axes>"
      ]
     },
     "metadata": {
      "needs_background": "light"
     },
     "output_type": "display_data"
    },
    {
     "data": {
      "image/png": "[encoded data removed]",
      "text/plain": [
       "<Figure size 432x288 with 1 Axes>"
      ]
     },
     "metadata": {
      "needs_background": "light"
     },
     "output_type": "display_data"
    },
    {
     "data": {
      "image/png": "[encoded data removed]",
      "text/plain": [
       "<Figure size 432x288 with 1 Axes>"
      ]
     },
     "metadata": {
      "needs_background": "light"
     },
     "output_type": "display_data"
    }
   ],
   "source": [
    "# analisis estadistico de los ciclos: ploteo de histogramas\n",
    "plt.hist(df['ciclo'], bins=70), plt.title('Histograma de ciclos'), plt.show()\n",
    "plt.hist(df['magnitud'], bins=30), plt.title('Histograma de magnitudes'), plt.show()\n",
    "plt.hist(df['media'], bins=30), plt.title('Histograma de medias'), plt.show()\n",
    "plt.hist(df['energia'], bins=60), plt.title('Histograma de energia'), plt.show()\n",
    "plt.hist(df['temp_ini'], bins=60), plt.title('Histograma de temperatura inicial'), plt.show()\n",
    "\n",
    "for i in range(3,9):\n",
    "    plt.plot(df['tiempo'][i], df['voltaje'][i])\n",
    "plt.show()\n",
    "\n",
    "for i in range(3,9):\n",
    "    plt.plot(df['tiempo'][i], df['corriente'][i])\n",
    "plt.show()\n",
    "\n",
    "for i in range(3,9):\n",
    "    plt.plot(df['tiempo'][i], df['temperatura'][i])\n",
    "    plt.title('tiempo vs temperatura')\n",
    "    plt.xlabel('tiempo')\n",
    "    plt.ylabel('temperatura [°C]')\n",
    "plt.show()\n"
   ]
  },
  {
   "cell_type": "code",
   "execution_count": 119,
   "metadata": {},
   "outputs": [
    {
     "data": {
      "image/png": "[encoded data removed]",
      "text/plain": [
       "<Figure size 432x288 with 1 Axes>"
      ]
     },
     "metadata": {
      "needs_background": "light"
     },
     "output_type": "display_data"
    },
    {
     "data": {
      "image/png": "[encoded data removed]",
      "text/plain": [
       "<Figure size 432x288 with 1 Axes>"
      ]
     },
     "metadata": {
      "needs_background": "light"
     },
     "output_type": "display_data"
    },
    {
     "data": {
      "image/png": "[encoded data removed]",
      "text/plain": [
       "<Figure size 432x288 with 1 Axes>"
      ]
     },
     "metadata": {
      "needs_background": "light"
     },
     "output_type": "display_data"
    },
    {
     "data": {
      "image/png": "[encoded data removed]",
      "text/plain": [
       "<Figure size 432x288 with 1 Axes>"
      ]
     },
     "metadata": {
      "needs_background": "light"
     },
     "output_type": "display_data"
    },
    {
     "data": {
      "image/png": "[encoded data removed]",
      "text/plain": [
       "<Figure size 432x288 with 1 Axes>"
      ]
     },
     "metadata": {
      "needs_background": "light"
     },
     "output_type": "display_data"
    },
    {
     "data": {
      "image/png": "[encoded data removed]",
      "text/plain": [
       "<Figure size 432x288 with 1 Axes>"
      ]
     },
     "metadata": {
      "needs_background": "light"
     },
     "output_type": "display_data"
    },
    {
     "data": {
      "image/png": "[encoded data removed]",
      "text/plain": [
       "<Figure size 432x288 with 1 Axes>"
      ]
     },
     "metadata": {
      "needs_background": "light"
     },
     "output_type": "display_data"
    },
    {
     "data": {
      "image/png": "[encoded data removed]",
      "text/plain": [
       "<Figure size 432x288 with 1 Axes>"
      ]
     },
     "metadata": {
      "needs_background": "light"
     },
     "output_type": "display_data"
    }
   ],
   "source": [
    "# analisis estadistico de los ciclos: ploteo de histogramas\n",
    "plt.hist(df_2['ciclo'], bins=70), plt.title('Histograma de ciclos'), plt.show()\n",
    "plt.hist(df_2['magnitud'], bins=30), plt.title('Histograma de magnitudes'), plt.show()\n",
    "plt.hist(df_2['media'], bins=30), plt.title('Histograma de medias'), plt.show()\n",
    "plt.hist(df_2['energia'], bins=60), plt.title('Histograma de energia'), plt.show()\n",
    "plt.hist(df_2['temp_ini'], bins=60), plt.title('Histograma de temperatura inicial'), plt.show()\n",
    "\n",
    "for i in range(3,9):\n",
    "    plt.plot(df_2['tiempo'][i], df_2['voltaje'][i])\n",
    "plt.show()\n",
    "\n",
    "for i in range(3,9):\n",
    "    plt.plot(df_2['tiempo'][i], df_2['corriente'][i])\n",
    "plt.show()\n",
    "\n",
    "for i in range(3,9):\n",
    "    plt.plot(df_2['tiempo'][i], df_2['temperatura'][i])\n",
    "    plt.title('tiempo vs temperatura')\n",
    "    plt.xlabel('tiempo')\n",
    "    plt.ylabel('temperatura [°C]')\n",
    "plt.show()\n"
   ]
  },
  {
   "cell_type": "markdown",
   "metadata": {},
   "source": [
    "## Extracción de características\n",
    "\n",
    "A continuación, se hace la extracción de las características obtenidas desde el dataset. Además de mostrar su significado con un dibujo de las mismas."
   ]
  },
  {
   "cell_type": "code",
   "execution_count": 120,
   "metadata": {},
   "outputs": [],
   "source": [
    "from preparacion_entrenamiento import *\n",
    "from extraccion_caracteristicas import *"
   ]
  },
  {
   "cell_type": "code",
   "execution_count": 121,
   "metadata": {
    "scrolled": true
   },
   "outputs": [
    {
     "name": "stderr",
     "output_type": "stream",
     "text": [
      "C:\\Users\\cbaez\\Anaconda3\\lib\\site-packages\\numpy\\core\\fromnumeric.py:3118: RuntimeWarning: Mean of empty slice.\n",
      "  out=out, **kwargs)\n",
      "C:\\Users\\cbaez\\Anaconda3\\lib\\site-packages\\numpy\\core\\_methods.py:85: RuntimeWarning: invalid value encountered in double_scalars\n",
      "  ret = ret.dtype.type(ret / rcount)\n",
      "C:\\Users\\cbaez\\Anaconda3\\lib\\site-packages\\ipykernel_launcher.py:22: RuntimeWarning: divide by zero encountered in true_divide\n",
      "C:\\Users\\cbaez\\Anaconda3\\lib\\site-packages\\ipykernel_launcher.py:23: RuntimeWarning: divide by zero encountered in true_divide\n",
      "C:\\Users\\cbaez\\Anaconda3\\lib\\site-packages\\ipykernel_launcher.py:45: RuntimeWarning: divide by zero encountered in true_divide\n",
      "C:\\Users\\cbaez\\Anaconda3\\lib\\site-packages\\ipykernel_launcher.py:46: RuntimeWarning: divide by zero encountered in true_divide\n"
     ]
    }
   ],
   "source": [
    "# obtener features\n",
    "\n",
    "#RW3\n",
    "#df[\"ene_total\"] = energia_total(df[\"energia\"],df[\"ciclo\"])\n",
    "\n",
    "mag = Mg_rel(df['magnitud'])\n",
    "df[\"Mag_rel\"] = mag[0] #magnitud relativa a la anterior\n",
    "df[\"Mediana_rel\"] = mag[1] #mediana relativa\n",
    "df[\"Mag_rel_abs\"] = np.absolute(mag[0]) #magnitud relativa a la anterior\n",
    "df[\"Mediana_rel_abs\"] = np.absolute(mag[1]) #mediana relativa\n",
    "\n",
    "#df[\"F1\"] = [np.mean(x[:1]) for x in primera_derivada(df[\"voltaje\"])] #primera derivada\n",
    "df[\"F1\"] = primera_derivada(df[\"voltaje\"],df[\"tiempo\"])\n",
    "#df[\"F2\"] = segunda_derivada(df[\"voltaje\"]) #segunda derivada\n",
    "df[\"F2\"] = segunda_derivada(df[\"voltaje\"],df[\"tiempo\"]) \n",
    "df[\"F3\"] = deltaT(df[\"temp_ini\"],df[\"magnitud\"])  #Diferencia de temperatura\n",
    "df[\"F4\"] = primera_derivada_RC(df[\"voltaje\"])  # primera derivada efecto capacitivo\n",
    "df[\"F5\"] = segunda_derivada_RC(df[\"voltaje\"])  # segunda derivada efecto capacitivo\n",
    "RC_test = RC(df[\"voltaje\"],df[\"tiempo\"],df[\"ciclo\"])\n",
    "df[\"F6\"] = RC_test[0]  # circuito RC\n",
    "df[\"F7\"] = potencia_instantanea_salto(df['voltaje'], df['corriente'], limite=1) #Potencia instantanea\n",
    "df[\"F8\"] = np.round(df[\"F7\"].values/df[\"Mag_rel\"].values,3)\n",
    "df[\"F9\"] =  np.round(df[\"F7\"].values/df[\"Mag_rel_abs\"].values,3)\n",
    "df['F10'] = diferencia_voltaje(df['voltaje'], df['corriente'])\n",
    "df['F11'] = diferencia_voltaje2(df['voltaje'], df['corriente'])\n",
    "#RW5\n",
    "#df_2[\"ene_total\"] = energia_total(df_2[\"energia\"],df_2[\"ciclo\"])\n",
    "\n",
    "mag = Mg_rel(df_2['magnitud'])\n",
    "df_2[\"Mag_rel\"] = mag[0] #magnitud relativa a la anterior\n",
    "df_2[\"Mediana_rel\"] = mag[1] #mediana relativa\n",
    "df_2[\"Mag_rel_abs\"] = np.absolute(mag[0]) #magnitud relativa a la anterior\n",
    "df_2[\"Mediana_rel_abs\"] = np.absolute(mag[1]) #mediana relativa\n",
    "\n",
    "#df_2[\"F1\"] = [np.mean(x[:1]) for x in primera_derivada(df_2[\"voltaje\"])]\n",
    "df_2[\"F1\"] = primera_derivada(df_2[\"voltaje\"],df_2[\"tiempo\"])\n",
    "#df_2[\"F2\"] = segunda_derivada(df_2[\"voltaje\"]) #segunda derivada\n",
    "df_2[\"F2\"] = segunda_derivada(df_2[\"voltaje\"],df_2[\"tiempo\"]) \n",
    "df_2[\"F3\"] = deltaT(df_2[\"temp_ini\"],df_2[\"magnitud\"])\n",
    "df_2[\"F4\"] = primera_derivada_RC(df_2[\"voltaje\"])  # primera derivada efecto capacitivo\n",
    "df_2[\"F5\"] = segunda_derivada_RC(df_2[\"voltaje\"])  # segunda derivada efecto capacitivo\n",
    "RC_test = RC(df_2[\"voltaje\"],df_2[\"tiempo\"],df_2[\"ciclo\"])\n",
    "df_2[\"F6\"] = RC_test[0]  # circuito RC\n",
    "df_2[\"F7\"] = potencia_instantanea_salto(df_2['voltaje'], df_2['corriente'], limite=1) #Potencia instantanea\n",
    "df_2[\"F8\"] = np.round(df_2[\"F7\"].values/df_2[\"Mag_rel\"].values,3)\n",
    "df_2[\"F9\"] = np.round(df_2[\"F7\"].values/df_2[\"Mag_rel_abs\"].values,3)\n",
    "df_2['F10'] = diferencia_voltaje(df_2['voltaje'], df_2['corriente'])\n",
    "df_2['F11'] = diferencia_voltaje2(df_2['voltaje'], df_2['corriente'])\n",
    "#Cambio de labels para etiquetar\n",
    "\n",
    "sep = 10\n",
    "df[\"clase\"] = ChangeLabel(df['ciclo'],sep)\n",
    "df_2[\"clase\"] = ChangeLabel(df_2[\"ciclo\"],sep)\n",
    "\n",
    "#print(df[\"F7\"].values/df[\"Mag_rel\"].values)\n",
    "#df.values[1393,:]\n"
   ]
  },
  {
   "cell_type": "code",
   "execution_count": 122,
   "metadata": {
    "scrolled": true
   },
   "outputs": [
    {
     "name": "stdout",
     "output_type": "stream",
     "text": [
      "(4931, 25)\n",
      "741\n"
     ]
    },
    {
     "data": {
      "text/html": [
       "<div>\n",
       "<style scoped>\n",
       "    .dataframe tbody tr th:only-of-type {\n",
       "        vertical-align: middle;\n",
       "    }\n",
       "\n",
       "    .dataframe tbody tr th {\n",
       "        vertical-align: top;\n",
       "    }\n",
       "\n",
       "    .dataframe thead th {\n",
       "        text-align: right;\n",
       "    }\n",
       "</style>\n",
       "<table border=\"1\" class=\"dataframe\">\n",
       "  <thead>\n",
       "    <tr style=\"text-align: right;\">\n",
       "      <th></th>\n",
       "      <th>ciclo</th>\n",
       "      <th>energia</th>\n",
       "      <th>magnitud</th>\n",
       "      <th>media</th>\n",
       "      <th>voltaje</th>\n",
       "      <th>corriente</th>\n",
       "      <th>temperatura</th>\n",
       "      <th>tiempo</th>\n",
       "      <th>temp_ini</th>\n",
       "      <th>Mag_rel</th>\n",
       "      <th>...</th>\n",
       "      <th>F3</th>\n",
       "      <th>F4</th>\n",
       "      <th>F5</th>\n",
       "      <th>F6</th>\n",
       "      <th>F7</th>\n",
       "      <th>F8</th>\n",
       "      <th>F9</th>\n",
       "      <th>F10</th>\n",
       "      <th>F11</th>\n",
       "      <th>clase</th>\n",
       "    </tr>\n",
       "  </thead>\n",
       "  <tbody>\n",
       "    <tr>\n",
       "      <th>0</th>\n",
       "      <td>1</td>\n",
       "      <td>0.614047</td>\n",
       "      <td>4.005</td>\n",
       "      <td>2.0025</td>\n",
       "      <td>[4.199, 4.199, 3.833, 3.809, 3.801, 3.795, 3.7...</td>\n",
       "      <td>[0.0, 0.0, 4.005, 3.999, 4.0, 3.999, 4.0, 4.0,...</td>\n",
       "      <td>[20.61039, 20.61039, 20.61039, 20.62594, 20.62...</td>\n",
       "      <td>[274884.25, 274884.5, 274884.54, 274885.540000...</td>\n",
       "      <td>20.61039</td>\n",
       "      <td>4.005</td>\n",
       "      <td>...</td>\n",
       "      <td>5.146165</td>\n",
       "      <td>0.000000</td>\n",
       "      <td>0.000000</td>\n",
       "      <td>0.00000</td>\n",
       "      <td>16.816995</td>\n",
       "      <td>4.199</td>\n",
       "      <td>4.199</td>\n",
       "      <td>-0.366</td>\n",
       "      <td>-0.366</td>\n",
       "      <td>1</td>\n",
       "    </tr>\n",
       "    <tr>\n",
       "      <th>1</th>\n",
       "      <td>1</td>\n",
       "      <td>4266.690109</td>\n",
       "      <td>2.007</td>\n",
       "      <td>1.0035</td>\n",
       "      <td>[3.512, 3.817, 3.842, 3.683, 3.688, 3.693, 3.6...</td>\n",
       "      <td>[4.0, 0.0, 0.0, 2.007, 2.0, 2.0, 2.0, 2.0, 2.0...</td>\n",
       "      <td>[28.18093, 28.18093, 28.18093, 28.18093, 28.21...</td>\n",
       "      <td>[275184.5, 275184.50999999995, 275184.7, 27518...</td>\n",
       "      <td>28.18093</td>\n",
       "      <td>-1.998</td>\n",
       "      <td>...</td>\n",
       "      <td>3.772068</td>\n",
       "      <td>0.000213</td>\n",
       "      <td>-0.000027</td>\n",
       "      <td>70.30368</td>\n",
       "      <td>7.710894</td>\n",
       "      <td>-3.859</td>\n",
       "      <td>3.859</td>\n",
       "      <td>0.171</td>\n",
       "      <td>-0.159</td>\n",
       "      <td>1</td>\n",
       "    </tr>\n",
       "    <tr>\n",
       "      <th>2</th>\n",
       "      <td>1</td>\n",
       "      <td>6510.697143</td>\n",
       "      <td>1.503</td>\n",
       "      <td>0.7515</td>\n",
       "      <td>[3.72, 3.868, 3.879, 3.763, 3.762, 3.763, 3.76...</td>\n",
       "      <td>[2.0, 0.0, 0.0, 1.503, 1.5, 1.5, 1.5, 1.5, 1.5...</td>\n",
       "      <td>[28.36748, 28.36748, 28.36748, 28.36748, 28.35...</td>\n",
       "      <td>[275484.7, 275484.71, 275485.35, 275485.39, 27...</td>\n",
       "      <td>28.36748</td>\n",
       "      <td>-0.504</td>\n",
       "      <td>...</td>\n",
       "      <td>0.124118</td>\n",
       "      <td>0.000107</td>\n",
       "      <td>-0.000034</td>\n",
       "      <td>26.98008</td>\n",
       "      <td>5.830137</td>\n",
       "      <td>-11.568</td>\n",
       "      <td>11.568</td>\n",
       "      <td>0.043</td>\n",
       "      <td>-0.116</td>\n",
       "      <td>1</td>\n",
       "    </tr>\n",
       "    <tr>\n",
       "      <th>3</th>\n",
       "      <td>1</td>\n",
       "      <td>8200.072656</td>\n",
       "      <td>2.504</td>\n",
       "      <td>1.2520</td>\n",
       "      <td>[3.733, 3.846, 3.854, 3.657, 3.652, 3.65, 3.64...</td>\n",
       "      <td>[1.5, 0.0, 0.0, 2.504, 2.5, 2.5, 2.5, 2.499, 2...</td>\n",
       "      <td>[27.24822, 27.24822, 27.23267, 27.23267, 27.23...</td>\n",
       "      <td>[275785.35, 275785.36, 275785.81, 275785.85, 2...</td>\n",
       "      <td>27.24822</td>\n",
       "      <td>1.001</td>\n",
       "      <td>...</td>\n",
       "      <td>0.446989</td>\n",
       "      <td>0.000000</td>\n",
       "      <td>0.000000</td>\n",
       "      <td>0.00000</td>\n",
       "      <td>9.650416</td>\n",
       "      <td>9.641</td>\n",
       "      <td>9.641</td>\n",
       "      <td>-0.076</td>\n",
       "      <td>-0.197</td>\n",
       "      <td>1</td>\n",
       "    </tr>\n",
       "    <tr>\n",
       "      <th>4</th>\n",
       "      <td>1</td>\n",
       "      <td>10884.859898</td>\n",
       "      <td>0.504</td>\n",
       "      <td>0.2520</td>\n",
       "      <td>[3.543, 3.731, 3.747, 3.708, 3.711, 3.715, 3.7...</td>\n",
       "      <td>[2.5, 0.0, 0.0, 0.504, 0.5, 0.5, 0.5, 0.5, 0.5...</td>\n",
       "      <td>[28.07212, 28.07212, 28.07212, 28.07212, 28.07...</td>\n",
       "      <td>[276085.81, 276085.82, 276086.28, 276086.33, 2...</td>\n",
       "      <td>28.07212</td>\n",
       "      <td>-2.000</td>\n",
       "      <td>...</td>\n",
       "      <td>1.634722</td>\n",
       "      <td>0.000145</td>\n",
       "      <td>-0.000011</td>\n",
       "      <td>105.24064</td>\n",
       "      <td>1.888488</td>\n",
       "      <td>-0.944</td>\n",
       "      <td>0.944</td>\n",
       "      <td>0.165</td>\n",
       "      <td>-0.039</td>\n",
       "      <td>1</td>\n",
       "    </tr>\n",
       "  </tbody>\n",
       "</table>\n",
       "<p>5 rows × 25 columns</p>\n",
       "</div>"
      ],
      "text/plain": [
       "   ciclo       energia  magnitud   media  \\\n",
       "0      1      0.614047     4.005  2.0025   \n",
       "1      1   4266.690109     2.007  1.0035   \n",
       "2      1   6510.697143     1.503  0.7515   \n",
       "3      1   8200.072656     2.504  1.2520   \n",
       "4      1  10884.859898     0.504  0.2520   \n",
       "\n",
       "                                             voltaje  \\\n",
       "0  [4.199, 4.199, 3.833, 3.809, 3.801, 3.795, 3.7...   \n",
       "1  [3.512, 3.817, 3.842, 3.683, 3.688, 3.693, 3.6...   \n",
       "2  [3.72, 3.868, 3.879, 3.763, 3.762, 3.763, 3.76...   \n",
       "3  [3.733, 3.846, 3.854, 3.657, 3.652, 3.65, 3.64...   \n",
       "4  [3.543, 3.731, 3.747, 3.708, 3.711, 3.715, 3.7...   \n",
       "\n",
       "                                           corriente  \\\n",
       "0  [0.0, 0.0, 4.005, 3.999, 4.0, 3.999, 4.0, 4.0,...   \n",
       "1  [4.0, 0.0, 0.0, 2.007, 2.0, 2.0, 2.0, 2.0, 2.0...   \n",
       "2  [2.0, 0.0, 0.0, 1.503, 1.5, 1.5, 1.5, 1.5, 1.5...   \n",
       "3  [1.5, 0.0, 0.0, 2.504, 2.5, 2.5, 2.5, 2.499, 2...   \n",
       "4  [2.5, 0.0, 0.0, 0.504, 0.5, 0.5, 0.5, 0.5, 0.5...   \n",
       "\n",
       "                                         temperatura  \\\n",
       "0  [20.61039, 20.61039, 20.61039, 20.62594, 20.62...   \n",
       "1  [28.18093, 28.18093, 28.18093, 28.18093, 28.21...   \n",
       "2  [28.36748, 28.36748, 28.36748, 28.36748, 28.35...   \n",
       "3  [27.24822, 27.24822, 27.23267, 27.23267, 27.23...   \n",
       "4  [28.07212, 28.07212, 28.07212, 28.07212, 28.07...   \n",
       "\n",
       "                                              tiempo  temp_ini  Mag_rel  ...  \\\n",
       "0  [274884.25, 274884.5, 274884.54, 274885.540000...  20.61039    4.005  ...   \n",
       "1  [275184.5, 275184.50999999995, 275184.7, 27518...  28.18093   -1.998  ...   \n",
       "2  [275484.7, 275484.71, 275485.35, 275485.39, 27...  28.36748   -0.504  ...   \n",
       "3  [275785.35, 275785.36, 275785.81, 275785.85, 2...  27.24822    1.001  ...   \n",
       "4  [276085.81, 276085.82, 276086.28, 276086.33, 2...  28.07212   -2.000  ...   \n",
       "\n",
       "         F3        F4        F5         F6         F7      F8      F9    F10  \\\n",
       "0  5.146165  0.000000  0.000000    0.00000  16.816995   4.199   4.199 -0.366   \n",
       "1  3.772068  0.000213 -0.000027   70.30368   7.710894  -3.859   3.859  0.171   \n",
       "2  0.124118  0.000107 -0.000034   26.98008   5.830137 -11.568  11.568  0.043   \n",
       "3  0.446989  0.000000  0.000000    0.00000   9.650416   9.641   9.641 -0.076   \n",
       "4  1.634722  0.000145 -0.000011  105.24064   1.888488  -0.944   0.944  0.165   \n",
       "\n",
       "     F11  clase  \n",
       "0 -0.366      1  \n",
       "1 -0.159      1  \n",
       "2 -0.116      1  \n",
       "3 -0.197      1  \n",
       "4 -0.039      1  \n",
       "\n",
       "[5 rows x 25 columns]"
      ]
     },
     "execution_count": 122,
     "metadata": {},
     "output_type": "execute_result"
    }
   ],
   "source": [
    "print(df.shape)\n",
    "print(len(np.unique(df.ciclo)))\n",
    "df.head()"
   ]
  },
  {
   "cell_type": "code",
   "execution_count": 123,
   "metadata": {
    "scrolled": true
   },
   "outputs": [
    {
     "name": "stdout",
     "output_type": "stream",
     "text": [
      "(4741, 25)\n",
      "726\n"
     ]
    },
    {
     "data": {
      "text/html": [
       "<div>\n",
       "<style scoped>\n",
       "    .dataframe tbody tr th:only-of-type {\n",
       "        vertical-align: middle;\n",
       "    }\n",
       "\n",
       "    .dataframe tbody tr th {\n",
       "        vertical-align: top;\n",
       "    }\n",
       "\n",
       "    .dataframe thead th {\n",
       "        text-align: right;\n",
       "    }\n",
       "</style>\n",
       "<table border=\"1\" class=\"dataframe\">\n",
       "  <thead>\n",
       "    <tr style=\"text-align: right;\">\n",
       "      <th></th>\n",
       "      <th>ciclo</th>\n",
       "      <th>energia</th>\n",
       "      <th>magnitud</th>\n",
       "      <th>media</th>\n",
       "      <th>voltaje</th>\n",
       "      <th>corriente</th>\n",
       "      <th>temperatura</th>\n",
       "      <th>tiempo</th>\n",
       "      <th>temp_ini</th>\n",
       "      <th>Mag_rel</th>\n",
       "      <th>...</th>\n",
       "      <th>F3</th>\n",
       "      <th>F4</th>\n",
       "      <th>F5</th>\n",
       "      <th>F6</th>\n",
       "      <th>F7</th>\n",
       "      <th>F8</th>\n",
       "      <th>F9</th>\n",
       "      <th>F10</th>\n",
       "      <th>F11</th>\n",
       "      <th>clase</th>\n",
       "    </tr>\n",
       "  </thead>\n",
       "  <tbody>\n",
       "    <tr>\n",
       "      <th>0</th>\n",
       "      <td>1</td>\n",
       "      <td>0.614707</td>\n",
       "      <td>4.002</td>\n",
       "      <td>2.0010</td>\n",
       "      <td>[4.199, 4.199, 3.84, 3.814, 3.807, 3.8, 3.795,...</td>\n",
       "      <td>[0.0, 0.0, 4.002, 4.0, 4.0, 4.0, 4.001, 4.001,...</td>\n",
       "      <td>[21.64345, 21.64345, 21.64345, 21.64345, 21.64...</td>\n",
       "      <td>[281556.4, 281556.56000000006, 281556.6, 28155...</td>\n",
       "      <td>21.64345</td>\n",
       "      <td>4.002</td>\n",
       "      <td>...</td>\n",
       "      <td>5.408158</td>\n",
       "      <td>0.000000</td>\n",
       "      <td>0.000000</td>\n",
       "      <td>0.00000</td>\n",
       "      <td>16.804398</td>\n",
       "      <td>4.199</td>\n",
       "      <td>4.199</td>\n",
       "      <td>-0.359</td>\n",
       "      <td>-0.359</td>\n",
       "      <td>1</td>\n",
       "    </tr>\n",
       "    <tr>\n",
       "      <th>1</th>\n",
       "      <td>1</td>\n",
       "      <td>4268.008336</td>\n",
       "      <td>0.505</td>\n",
       "      <td>0.2525</td>\n",
       "      <td>[3.514, 3.809, 3.836, 3.799, 3.81, 3.819, 3.82...</td>\n",
       "      <td>[4.0, 0.0, 0.0, 0.505, 0.5, 0.5, 0.5, 0.5, 0.5...</td>\n",
       "      <td>[28.38382, 28.38382, 28.38382, 28.38382, 28.38...</td>\n",
       "      <td>[281856.56000000006, 281856.56999999995, 28185...</td>\n",
       "      <td>28.38382</td>\n",
       "      <td>-3.497</td>\n",
       "      <td>...</td>\n",
       "      <td>13.347267</td>\n",
       "      <td>0.000227</td>\n",
       "      <td>-0.000015</td>\n",
       "      <td>120.85736</td>\n",
       "      <td>1.937180</td>\n",
       "      <td>-0.554</td>\n",
       "      <td>0.554</td>\n",
       "      <td>0.285</td>\n",
       "      <td>-0.037</td>\n",
       "      <td>1</td>\n",
       "    </tr>\n",
       "    <tr>\n",
       "      <th>2</th>\n",
       "      <td>1</td>\n",
       "      <td>4858.765507</td>\n",
       "      <td>3.001</td>\n",
       "      <td>1.5005</td>\n",
       "      <td>[3.953, 3.989, 3.991, 3.762, 3.752, 3.747, 3.7...</td>\n",
       "      <td>[0.501, 0.0, 0.0, 3.001, 3.0, 3.001, 3.0, 3.0,...</td>\n",
       "      <td>[27.29416, 27.29416, 27.29416, 27.29416, 27.29...</td>\n",
       "      <td>[282156.74, 282156.75, 282156.93, 282156.97, 2...</td>\n",
       "      <td>27.29416</td>\n",
       "      <td>2.496</td>\n",
       "      <td>...</td>\n",
       "      <td>0.363099</td>\n",
       "      <td>0.000000</td>\n",
       "      <td>0.000000</td>\n",
       "      <td>0.00000</td>\n",
       "      <td>11.976991</td>\n",
       "      <td>4.798</td>\n",
       "      <td>4.798</td>\n",
       "      <td>-0.191</td>\n",
       "      <td>-0.229</td>\n",
       "      <td>1</td>\n",
       "    </tr>\n",
       "    <tr>\n",
       "      <th>3</th>\n",
       "      <td>1</td>\n",
       "      <td>8106.905952</td>\n",
       "      <td>2.007</td>\n",
       "      <td>1.0035</td>\n",
       "      <td>[3.551, 3.769, 3.785, 3.633, 3.633, 3.635, 3.6...</td>\n",
       "      <td>[3.0, 0.0, 0.0, 2.007, 2.001, 2.001, 2.0, 2.0,...</td>\n",
       "      <td>[29.19329, 29.19329, 29.19329, 29.19329, 29.19...</td>\n",
       "      <td>[282456.93, 282456.94, 282457.11, 282457.14999...</td>\n",
       "      <td>29.19329</td>\n",
       "      <td>-0.994</td>\n",
       "      <td>...</td>\n",
       "      <td>0.946253</td>\n",
       "      <td>0.000150</td>\n",
       "      <td>-0.000032</td>\n",
       "      <td>43.11504</td>\n",
       "      <td>7.596495</td>\n",
       "      <td>-7.642</td>\n",
       "      <td>7.642</td>\n",
       "      <td>0.082</td>\n",
       "      <td>-0.152</td>\n",
       "      <td>1</td>\n",
       "    </tr>\n",
       "    <tr>\n",
       "      <th>4</th>\n",
       "      <td>1</td>\n",
       "      <td>10293.294611</td>\n",
       "      <td>2.007</td>\n",
       "      <td>1.0035</td>\n",
       "      <td>[3.623, 3.767, 3.776, 3.625, 3.624, 3.624, 3.6...</td>\n",
       "      <td>[2.0, 0.0, 0.0, 2.007, 2.0, 2.0, 2.0, 2.0, 2.0...</td>\n",
       "      <td>[29.16216, 29.16216, 29.16216, 29.16216, 29.16...</td>\n",
       "      <td>[282757.11, 282757.12, 282757.29000000004, 282...</td>\n",
       "      <td>29.16216</td>\n",
       "      <td>0.000</td>\n",
       "      <td>...</td>\n",
       "      <td>0.015511</td>\n",
       "      <td>0.000000</td>\n",
       "      <td>0.000000</td>\n",
       "      <td>0.00000</td>\n",
       "      <td>7.578432</td>\n",
       "      <td>inf</td>\n",
       "      <td>inf</td>\n",
       "      <td>0.002</td>\n",
       "      <td>-0.151</td>\n",
       "      <td>1</td>\n",
       "    </tr>\n",
       "  </tbody>\n",
       "</table>\n",
       "<p>5 rows × 25 columns</p>\n",
       "</div>"
      ],
      "text/plain": [
       "   ciclo       energia  magnitud   media  \\\n",
       "0      1      0.614707     4.002  2.0010   \n",
       "1      1   4268.008336     0.505  0.2525   \n",
       "2      1   4858.765507     3.001  1.5005   \n",
       "3      1   8106.905952     2.007  1.0035   \n",
       "4      1  10293.294611     2.007  1.0035   \n",
       "\n",
       "                                             voltaje  \\\n",
       "0  [4.199, 4.199, 3.84, 3.814, 3.807, 3.8, 3.795,...   \n",
       "1  [3.514, 3.809, 3.836, 3.799, 3.81, 3.819, 3.82...   \n",
       "2  [3.953, 3.989, 3.991, 3.762, 3.752, 3.747, 3.7...   \n",
       "3  [3.551, 3.769, 3.785, 3.633, 3.633, 3.635, 3.6...   \n",
       "4  [3.623, 3.767, 3.776, 3.625, 3.624, 3.624, 3.6...   \n",
       "\n",
       "                                           corriente  \\\n",
       "0  [0.0, 0.0, 4.002, 4.0, 4.0, 4.0, 4.001, 4.001,...   \n",
       "1  [4.0, 0.0, 0.0, 0.505, 0.5, 0.5, 0.5, 0.5, 0.5...   \n",
       "2  [0.501, 0.0, 0.0, 3.001, 3.0, 3.001, 3.0, 3.0,...   \n",
       "3  [3.0, 0.0, 0.0, 2.007, 2.001, 2.001, 2.0, 2.0,...   \n",
       "4  [2.0, 0.0, 0.0, 2.007, 2.0, 2.0, 2.0, 2.0, 2.0...   \n",
       "\n",
       "                                         temperatura  \\\n",
       "0  [21.64345, 21.64345, 21.64345, 21.64345, 21.64...   \n",
       "1  [28.38382, 28.38382, 28.38382, 28.38382, 28.38...   \n",
       "2  [27.29416, 27.29416, 27.29416, 27.29416, 27.29...   \n",
       "3  [29.19329, 29.19329, 29.19329, 29.19329, 29.19...   \n",
       "4  [29.16216, 29.16216, 29.16216, 29.16216, 29.16...   \n",
       "\n",
       "                                              tiempo  temp_ini  Mag_rel  ...  \\\n",
       "0  [281556.4, 281556.56000000006, 281556.6, 28155...  21.64345    4.002  ...   \n",
       "1  [281856.56000000006, 281856.56999999995, 28185...  28.38382   -3.497  ...   \n",
       "2  [282156.74, 282156.75, 282156.93, 282156.97, 2...  27.29416    2.496  ...   \n",
       "3  [282456.93, 282456.94, 282457.11, 282457.14999...  29.19329   -0.994  ...   \n",
       "4  [282757.11, 282757.12, 282757.29000000004, 282...  29.16216    0.000  ...   \n",
       "\n",
       "          F3        F4        F5         F6         F7     F8     F9    F10  \\\n",
       "0   5.408158  0.000000  0.000000    0.00000  16.804398  4.199  4.199 -0.359   \n",
       "1  13.347267  0.000227 -0.000015  120.85736   1.937180 -0.554  0.554  0.285   \n",
       "2   0.363099  0.000000  0.000000    0.00000  11.976991  4.798  4.798 -0.191   \n",
       "3   0.946253  0.000150 -0.000032   43.11504   7.596495 -7.642  7.642  0.082   \n",
       "4   0.015511  0.000000  0.000000    0.00000   7.578432    inf    inf  0.002   \n",
       "\n",
       "     F11  clase  \n",
       "0 -0.359      1  \n",
       "1 -0.037      1  \n",
       "2 -0.229      1  \n",
       "3 -0.152      1  \n",
       "4 -0.151      1  \n",
       "\n",
       "[5 rows x 25 columns]"
      ]
     },
     "execution_count": 123,
     "metadata": {},
     "output_type": "execute_result"
    }
   ],
   "source": [
    "print(df_2.shape)\n",
    "print(len(np.unique(df_2.ciclo)))\n",
    "df_2.head()"
   ]
  },
  {
   "cell_type": "code",
   "execution_count": 124,
   "metadata": {},
   "outputs": [
    {
     "name": "stdout",
     "output_type": "stream",
     "text": [
      "0 columna ciclo\n",
      "1 columna energia\n",
      "2 columna magnitud\n",
      "3 columna media\n",
      "4 columna voltaje\n",
      "5 columna corriente\n",
      "6 columna temperatura\n",
      "7 columna tiempo\n",
      "8 columna temp_ini\n",
      "9 columna Mag_rel\n",
      "10 columna Mediana_rel\n",
      "11 columna Mag_rel_abs\n",
      "12 columna Mediana_rel_abs\n",
      "13 columna F1\n",
      "14 columna F2\n",
      "15 columna F3\n",
      "16 columna F4\n",
      "17 columna F5\n",
      "18 columna F6\n",
      "19 columna F7\n",
      "20 columna F8\n",
      "21 columna F9\n",
      "22 columna F10\n",
      "23 columna F11\n",
      "24 columna clase\n"
     ]
    }
   ],
   "source": [
    "for i, col in enumerate(df.columns):\n",
    "    print('{} columna {}'.format(i, col))"
   ]
  },
  {
   "cell_type": "markdown",
   "metadata": {},
   "source": [
    "## Preparación de dataset de entrenamiento y test"
   ]
  },
  {
   "cell_type": "code",
   "execution_count": 125,
   "metadata": {},
   "outputs": [
    {
     "name": "stdout",
     "output_type": "stream",
     "text": [
      "antes de filtrado df (9672, 25) \n",
      "filtrado por energia maxima de 1500 df (1893, 25) \n",
      "Borrado de NaN feature F2 (1893, 25)\n",
      "Borrado de NaN feature F8 (1827, 25)\n",
      "Seleccion de caracteristicas (1827, 25)\n",
      "Caracteristicas ['energia' 'magnitud' 'media' 'temp_ini' 'Mag_rel' 'Mediana_rel'\n",
      " 'Mag_rel_abs' 'Mediana_rel_abs' 'F1' 'F2' 'F3' 'F4' 'F5' 'F6' 'F7' 'F8'\n",
      " 'F9' 'F10' 'F11']\n",
      "Resultados PCA ['energia:True', 'magnitud:False', 'media:True', 'temp_ini:True', 'Mag_rel:False', 'Mediana_rel:False', 'Mag_rel_abs:False', 'Mediana_rel_abs:False', 'F1:True', 'F2:True', 'F3:True', 'F4:False', 'F5:False', 'F6:False', 'F7:True', 'F8:False', 'F9:False', 'F10:True', 'F11:True']\n"
     ]
    }
   ],
   "source": [
    "#import tensorflow as tf\n",
    "import seaborn as sns\n",
    "from math import floor, ceil\n",
    "from pylab import rcParams\n",
    "from time import time\n",
    "import scipy.io as sio\n",
    "from sklearn.decomposition import PCA\n",
    "from sklearn.preprocessing import StandardScaler,MinMaxScaler\n",
    "from sklearn.feature_selection import SelectKBest, mutual_info_classif,chi2\n",
    "from sklearn import svm\n",
    "from sklearn.model_selection import GridSearchCV\n",
    "\n",
    "from preparacion_entrenamiento import *\n",
    "\n",
    "\n",
    "\n",
    "#\"Se toman los valores de ambos conjuntos y se concatenan\"\n",
    "data_1 = df.values\n",
    "data_2 = df_2.values\n",
    "data = np.vstack((data_1,data_2))\n",
    "#\"Se toman los nombres para luego printear\"\n",
    "Nombres = df.columns.values\n",
    "\n",
    "#\"Se filtra segun energia y se eliminan valores problematicos como NaN o inf\"\n",
    "print(\"antes de filtrado df {} \".format(data.shape))\n",
    "energi= 1500\n",
    "ind = np.where((data[:,1]>energi))\n",
    "data = np.delete(data, ind, axis=0)\n",
    "print(\"filtrado por energia maxima de {} df {} \".format(energi, data.shape))\n",
    "\n",
    "# ind = np.where((data[:,1]<150)) \n",
    "# data = np.delete(data,ind,axis=0)\n",
    "# print(\"firt filter energia <150: \" , data.shape)\n",
    "\n",
    "aux = data[:,15].astype(np.float64)\n",
    "ind_2 = np.argwhere(np.isnan(aux))\n",
    "data = np.delete(data,ind_2,axis=0)\n",
    "print(\"Borrado de NaN feature F2 {}\".format(data.shape))\n",
    "\n",
    "aux_2 = data[:,21].astype(np.float64)\n",
    "ind_3 = np.argwhere(np.isinf(aux_2))\n",
    "data = np.delete(data,ind_3,axis=0)\n",
    "print(\"Borrado de NaN feature F8 {}\".format(data.shape))\n",
    "\n",
    "# Data con energia total consumida\n",
    "\n",
    "#data_x = np.hstack((data[:,3:5],data[:,9:22]))\n",
    "#Data sin energia total consumida\n",
    "\n",
    "data_temp = np.reshape(data[:,8],(-1,1))\n",
    "#print(data_temp.shape)\n",
    "# data_x = np.hstack((data[:,3:5],data_temp,data[:,11:22]))\n",
    "data_x = np.hstack((data[:,1:4],data_temp,data[:,9:-1]))\n",
    "Nombres_featu = np.hstack((Nombres[1:4],Nombres[8],Nombres[9:-1]))\n",
    "print(\"Seleccion de caracteristicas {}\".format(data.shape))\n",
    "print(\"Caracteristicas {}\".format(Nombres_featu))\n",
    "\n",
    "\n",
    "data_y = data[:,-1]\n",
    "data_y = data_y.astype(int)\n",
    "#print(\"datax: \",data_x.shape)\n",
    "\n",
    "scaler = StandardScaler()\n",
    "#scaler = MinMaxScaler()\n",
    "scaler_data = scaler.fit_transform(data_x)\n",
    "# data_x = PCA(n_components=8).fit_transform(scaler_data)\n",
    "\n",
    "Sel_best = SelectKBest(mutual_info_classif, k=9)\n",
    "Sel_best.fit(scaler_data, data_y)\n",
    "Best_Sel = Sel_best.get_support()\n",
    "Data_sel = [str(Nombres_featu[i])+\":\"+ str(Best_Sel[i]) for i in range(len(Best_Sel))]\n",
    "print('Resultados PCA {}'.format(Data_sel))\n",
    "\n",
    "data_x = Sel_best.transform(scaler_data)\n",
    "# data_aux = np.reshape(scaler_data[:,-1],(-1,1))\n",
    "# data_x = np.hstack((data_x,data_aux))\n",
    "\n",
    "#print(data_x.shape)"
   ]
  },
  {
   "cell_type": "markdown",
   "metadata": {},
   "source": [
    "## Creación de modelos"
   ]
  },
  {
   "cell_type": "code",
   "execution_count": 128,
   "metadata": {},
   "outputs": [
    {
     "name": "stdout",
     "output_type": "stream",
     "text": [
      "[[48 12  0  0  0  0  0  0  0  5]\n",
      " [ 0 42  0  0  0  0  0  0  0  0]\n",
      " [ 0  6 60  0  0  0  0  0  0  0]\n",
      " [ 0  0 12 48 19  0  0  0  0  0]\n",
      " [ 0  0  0  0 61  0  0  0  0  0]\n",
      " [ 0  0  0  0 40 12  0  0  0  0]\n",
      " [ 0  0  0  0  0  0 24  7  0  0]\n",
      " [ 0  0  0  0  0  0 12 53  2  0]\n",
      " [ 0  0  0  0  0  0  0  0 70  0]\n",
      " [ 0  0  0  0  0  0  0  0  0 19]]\n",
      "[0.14449333 0.05729714 0.19459789 0.14550448 0.16915152 0.06512688\n",
      " 0.06957562 0.07431326 0.07993989]\n",
      "Random Forest= W: 12 accu_pre_fit:  0.7065217391304348 accu_post_fit:  0.7916666666666666\n"
     ]
    }
   ],
   "source": [
    "#Random forest\n",
    "from sklearn.ensemble import RandomForestClassifier\n",
    "from sklearn.metrics import classification_report, confusion_matrix, accuracy_score,roc_curve\n",
    "from sklearn.model_selection import train_test_split\n",
    "\n",
    "\n",
    "win = 12 #\"Tamaño de ventana de valores consecutivos\"\n",
    "\n",
    "#\"Se toman los datos separados y mezclados\"\n",
    "x_train, y_train, x_valid, y_valid = data_valid(data_x, data_y,30, win)\n",
    "\n",
    "#\"Se clasifican utilizando random forest\"\n",
    "regressor = RandomForestClassifier(n_estimators=150)\n",
    "regressor.fit(x_train , y_train)\n",
    "\n",
    "y_pred_act = regressor.predict(x_valid)# \"Valor por label antes de aplicar la mediana de tamaño win\"\n",
    "\n",
    "y_pred = Mean_n(y_pred_act,win)# \"Valor por label utilizando la mediana\"\n",
    "\n",
    "\n",
    "# for i in range(len(y_pred)):\n",
    "#     print(i,y_pred_act[i],y_pred[i],y_valid[i])\n",
    "\n",
    "\n",
    "# print(\"Random Forest scores after fit:\")\n",
    "# print(accuracy_score(y_valid, y_pred))\n",
    "print(confusion_matrix(y_valid, y_pred))\n",
    "print(regressor.feature_importances_)\n",
    "\n",
    "print(\"Random Forest=\",\"W:\", win,\"accu_pre_fit: \",accuracy_score(y_valid, y_pred_act),\"accu_post_fit: \",accuracy_score(y_valid, y_pred))\n"
   ]
  },
  {
   "cell_type": "code",
   "execution_count": null,
   "metadata": {},
   "outputs": [],
   "source": []
  },
  {
   "cell_type": "code",
   "execution_count": null,
   "metadata": {},
   "outputs": [],
   "source": []
  },
  {
   "cell_type": "code",
   "execution_count": null,
   "metadata": {},
   "outputs": [],
   "source": []
  },
  {
   "cell_type": "markdown",
   "metadata": {},
   "source": [
    "## Evaluación de modelos y analisis de sensibilidad"
   ]
  },
  {
   "cell_type": "code",
   "execution_count": null,
   "metadata": {
    "scrolled": true
   },
   "outputs": [],
   "source": [
    "## análisis de sensibilidad por ventana\n",
    "win = 30\n",
    "n_try = 20\n",
    "accu = np.zeros((n_try,win))\n",
    "\n",
    "for j in range(n_try):\n",
    "    for i in range(win):\n",
    "        x_train, y_train, x_valid, y_valid = data_valid(data_x, data_y,30,i+1,j)\n",
    "\n",
    "        regressor = RandomForestClassifier(n_estimators=150)\n",
    "        regressor.fit(x_train , y_train)\n",
    "        y_pred_act = regressor.predict(x_valid)\n",
    "\n",
    "        y_pred = Mean_n(y_pred_act,i+1)\n",
    "\n",
    "        accu[j,i] = accuracy_score(y_valid, y_pred)\n",
    "        print(\"rs: \",j,\"W:\", i+1,\"accu_pre_fit: \",accuracy_score(y_valid, y_pred_act),\"accu_post_fit: \",accuracy_score(y_valid, y_pred))\n",
    "        \n",
    "accu_mean = np.mean(accu,axis=0)\n",
    "accu_std = np.std(accu,axis = 0)\n",
    "ran = np.arange(len(accu_mean))\n",
    "\n",
    "plt.errorbar(ran,accu_mean,accu_std,linestyle='None',marker='^',ecolor='r',c='b')\n",
    "plt.xlabel(\"Window\")\n",
    "plt.ylabel(\"accuracy\")\n",
    "plt.title(\"analisis de sensibilidad, %s iteraciones\" %n_try)"
   ]
  },
  {
   "cell_type": "code",
   "execution_count": null,
   "metadata": {},
   "outputs": [],
   "source": [
    "## senbilidad de acuerdo a la energia consumida\n",
    "data_1 = df.values\n",
    "data_2 = df_2.values\n",
    "data = np.vstack((data_1,data_2))\n",
    "# np.random.shuffle(data)\n",
    "Nombres = df.columns.values\n",
    "\n",
    "\n",
    "jump_ene = 10\n",
    "n_try = 20\n",
    "accu_ene = np.zeros((n_try,jump_ene))\n",
    "\n",
    "\n",
    "for j in range(n_try):\n",
    "    for i in range(jump_ene):\n",
    "        energi= 500+500*i\n",
    "        ind = np.where((data[:,1]>energi)) \n",
    "        data_fil = np.delete(data,ind,axis=0)\n",
    "\n",
    "        aux = data_fil[:,15].astype(np.float64)\n",
    "        ind_2 = np.argwhere(np.isnan(aux))\n",
    "        data_fil = np.delete(data_fil,ind_2,axis=0)\n",
    "\n",
    "        aux_2 = data_fil[:,21].astype(np.float64)\n",
    "        ind_3 = np.argwhere(np.isinf(aux_2))\n",
    "        data_fil = np.delete(data_fil,ind_3,axis=0)\n",
    "        \n",
    "        data_temp = np.reshape(data_fil[:,8],(-1,1))\n",
    "        data_x = np.hstack((data_fil[:,1:4],data_temp,data_fil[:,10:23]))\n",
    "        Nombres_featu = np.hstack((Nombres[1:4],Nombres[8],Nombres[10:23]))\n",
    "\n",
    "\n",
    "        data_y = data_fil[:,-1]\n",
    "        data_y = data_y.astype(int)\n",
    "\n",
    "        scaler = StandardScaler()\n",
    "        scaler_data = scaler.fit_transform(data_x)\n",
    "\n",
    "        Sel_best = SelectKBest(mutual_info_classif, k=6)\n",
    "        Sel_best.fit(scaler_data, data_y)\n",
    "        Best_Sel = Sel_best.get_support()\n",
    "        Data_sel = [str(Nombres_featu[i])+\":\"+ str(Best_Sel[i]) for i in range(len(Best_Sel))]\n",
    "\n",
    "        data_x = Sel_best.transform(scaler_data)\n",
    "\n",
    "        win = 12\n",
    "\n",
    "        x_train, y_train, x_valid, y_valid = data_valid(data_x, data_y,30, win)\n",
    "\n",
    "        regressor = RandomForestClassifier(n_estimators=150)\n",
    "        regressor.fit(x_train , y_train)\n",
    "        y_pred_act = regressor.predict(x_valid)\n",
    "\n",
    "        y_pred = Mean_n(y_pred_act,win)\n",
    "\n",
    "        accu_ene[j,i] = accuracy_score(y_valid, y_pred)\n",
    "        print(\"try\",j+1,\"energi:\",energi,\"W;\", win,\"accu_pre_fit: \",accuracy_score(y_valid, y_pred_act),\"accu_post_fit: \",accuracy_score(y_valid, y_pred))\n",
    "\n",
    "accu_mean = np.mean(accu_ene,axis=0)\n",
    "accu_std = np.std(accu_ene,axis = 0)\n",
    "energi = np.arange(500,500+jump_ene*500,500)\n",
    "\n",
    "plt.errorbar(energi,accu_mean,accu_std,linestyle='None',marker='^',ecolor='r',c='g')\n",
    "plt.xlabel(\"energia [j]\")\n",
    "plt.ylabel(\"accuracy\")\n",
    "plt.title(\"analisis de sensibilidad, %s iteraciones\" %n_try)\n"
   ]
  },
  {
   "cell_type": "code",
   "execution_count": 132,
   "metadata": {},
   "outputs": [
    {
     "ename": "ValueError",
     "evalue": "The truth value of an array with more than one element is ambiguous. Use a.any() or a.all()",
     "output_type": "error",
     "traceback": [
      "\u001b[1;31m---------------------------------------------------------------------------\u001b[0m",
      "\u001b[1;31mValueError\u001b[0m                                Traceback (most recent call last)",
      "\u001b[1;32m<ipython-input-132-551942417900>\u001b[0m in \u001b[0;36m<module>\u001b[1;34m\u001b[0m\n\u001b[0;32m     17\u001b[0m \u001b[1;33m\u001b[0m\u001b[0m\n\u001b[0;32m     18\u001b[0m         \u001b[0maux\u001b[0m \u001b[1;33m=\u001b[0m \u001b[0mdata_fil\u001b[0m\u001b[1;33m[\u001b[0m\u001b[1;33m:\u001b[0m\u001b[1;33m,\u001b[0m\u001b[1;36m15\u001b[0m\u001b[1;33m]\u001b[0m\u001b[1;33m.\u001b[0m\u001b[0mastype\u001b[0m\u001b[1;33m(\u001b[0m\u001b[0mnp\u001b[0m\u001b[1;33m.\u001b[0m\u001b[0mfloat64\u001b[0m\u001b[1;33m)\u001b[0m\u001b[1;33m\u001b[0m\u001b[1;33m\u001b[0m\u001b[0m\n\u001b[1;32m---> 19\u001b[1;33m         \u001b[0mind_2\u001b[0m \u001b[1;33m=\u001b[0m \u001b[0mnp\u001b[0m\u001b[1;33m.\u001b[0m\u001b[0margwhere\u001b[0m\u001b[1;33m(\u001b[0m\u001b[1;33m(\u001b[0m\u001b[0mnp\u001b[0m\u001b[1;33m.\u001b[0m\u001b[0misinf\u001b[0m\u001b[1;33m(\u001b[0m\u001b[0maux\u001b[0m\u001b[1;33m)\u001b[0m\u001b[1;33m)\u001b[0m \u001b[1;32mor\u001b[0m \u001b[1;33m(\u001b[0m\u001b[0mnp\u001b[0m\u001b[1;33m.\u001b[0m\u001b[0misnan\u001b[0m\u001b[1;33m(\u001b[0m\u001b[0maux\u001b[0m\u001b[1;33m)\u001b[0m\u001b[1;33m)\u001b[0m\u001b[1;33m)\u001b[0m\u001b[1;33m\u001b[0m\u001b[1;33m\u001b[0m\u001b[0m\n\u001b[0m\u001b[0;32m     20\u001b[0m         \u001b[0mdata_fil\u001b[0m \u001b[1;33m=\u001b[0m \u001b[0mnp\u001b[0m\u001b[1;33m.\u001b[0m\u001b[0mdelete\u001b[0m\u001b[1;33m(\u001b[0m\u001b[0mdata_fil\u001b[0m\u001b[1;33m,\u001b[0m\u001b[0mind_2\u001b[0m\u001b[1;33m,\u001b[0m\u001b[0maxis\u001b[0m\u001b[1;33m=\u001b[0m\u001b[1;36m0\u001b[0m\u001b[1;33m)\u001b[0m\u001b[1;33m\u001b[0m\u001b[1;33m\u001b[0m\u001b[0m\n\u001b[0;32m     21\u001b[0m \u001b[1;33m\u001b[0m\u001b[0m\n",
      "\u001b[1;31mValueError\u001b[0m: The truth value of an array with more than one element is ambiguous. Use a.any() or a.all()"
     ]
    }
   ],
   "source": [
    "## senbilidad de acuerdo al n° de caracteristicas\n",
    "data_1 = df.values\n",
    "data_2 = df_2.values\n",
    "data = np.vstack((data_1,data_2))\n",
    "Nombres = df.columns.values\n",
    "\n",
    "n_caract = 2\n",
    "n_try = 10\n",
    "accu_ene = np.zeros((n_try,n_caract ))\n",
    "\n",
    "\n",
    "for j in range(n_try):\n",
    "    for i in range(n_caract):\n",
    "        energi= 1500\n",
    "        ind = np.where((data[:,1]>energi)) \n",
    "        data_fil = np.delete(data,ind,axis=0)\n",
    "\n",
    "        aux = data_fil[:,15].astype(np.float64)\n",
    "        ind_2 = np.argwhere(np.isinf(aux))  \n",
    "        data_fil = np.delete(data_fil,ind_2,axis=0)\n",
    "\n",
    "        aux_2 = data_fil[:,21].astype(np.float64)\n",
    "        ind_3 = np.argwhere(np.isinf(aux_2))\n",
    "        data_fil = np.delete(data_fil,ind_3,axis=0)\n",
    "\n",
    "        data_temp = np.reshape(data_fil[:,8],(-1,1))\n",
    "        data_x = np.hstack((data_fil[:,1:4],data_temp,data_fil[:,10:23]))\n",
    "        Nombres_featu = np.hstack((Nombres[1:4],Nombres[8],Nombres[10:23]))\n",
    "\n",
    "\n",
    "        data_y = data_fil[:,-1]\n",
    "        data_y = data_y.astype(int)\n",
    "\n",
    "        scaler = StandardScaler()\n",
    "        scaler_data = scaler.fit_transform(data_x)\n",
    "\n",
    "        Sel_best = SelectKBest(mutual_info_classif, k=i+1)\n",
    "        Sel_best.fit(scaler_data, data_y)\n",
    "        Best_Sel = Sel_best.get_support()\n",
    "        Data_sel = [str(Nombres_featu[i])+\":\"+ str(Best_Sel[i]) for i in range(len(Best_Sel))]\n",
    "\n",
    "        data_x = Sel_best.transform(scaler_data)\n",
    "\n",
    "        win = 12\n",
    "\n",
    "        x_train, y_train, x_valid, y_valid = data_valid(data_x, data_y,30, win)\n",
    "\n",
    "        regressor = RandomForestClassifier(n_estimators=150)\n",
    "        regressor.fit(x_train , y_train)\n",
    "        y_pred_act = regressor.predict(x_valid)\n",
    "\n",
    "        y_pred = Mean_n(y_pred_act,win)\n",
    "\n",
    "        accu_ene[j,i] = accuracy_score(y_valid, y_pred)\n",
    "        print(\"try:\",j+1,\"n° caract\",i+1,\"accu_pre_fit: \",accuracy_score(y_valid, y_pred_act),\"accu_post_fit: \",accuracy_score(y_valid, y_pred))\n",
    "\n",
    "accu_mean = np.mean(accu_ene,axis=0)\n",
    "accu_std = np.std(accu_ene,axis = 0)\n",
    "n_car = np.arange(len(accu_mean))\n",
    "\n",
    "plt.errorbar(n_car,accu_mean,accu_std,linestyle='None',marker='^',ecolor='r',c='g')\n",
    "plt.xlabel(\"n° caracteristicas\")\n",
    "plt.ylabel(\"accuracy\")\n",
    "plt.title(\"analisis de sensibilidad, %s iteraciones\" %n_try)\n"
   ]
  },
  {
   "cell_type": "code",
   "execution_count": 56,
   "metadata": {},
   "outputs": [
    {
     "name": "stdout",
     "output_type": "stream",
     "text": [
      "[2.29000126e-02 0.00000000e+00 0.00000000e+00 1.11022302e-16\n",
      " 4.44089210e-16 1.11022302e-16 3.33066907e-16 1.11022302e-16\n",
      " 3.33066907e-16 1.11022302e-16 1.11022302e-16 1.11022302e-16\n",
      " 1.11022302e-16]\n"
     ]
    }
   ],
   "source": [
    "print(accu_std)"
   ]
  },
  {
   "cell_type": "code",
   "execution_count": 37,
   "metadata": {},
   "outputs": [
    {
     "name": "stderr",
     "output_type": "stream",
     "text": [
      "C:\\Users\\cbaez\\Anaconda3\\lib\\site-packages\\sklearn\\feature_selection\\base.py:79: UserWarning: No features were selected: either the data is too noisy or the selection test too strict.\n",
      "  UserWarning)\n"
     ]
    },
    {
     "ename": "KeyboardInterrupt",
     "evalue": "",
     "output_type": "error",
     "traceback": [
      "\u001b[1;31m---------------------------------------------------------------------------\u001b[0m",
      "\u001b[1;31mKeyboardInterrupt\u001b[0m                         Traceback (most recent call last)",
      "\u001b[1;32m<ipython-input-37-e840a9a88898>\u001b[0m in \u001b[0;36m<module>\u001b[1;34m\u001b[0m\n\u001b[0;32m     50\u001b[0m                 \u001b[0mwin\u001b[0m \u001b[1;33m=\u001b[0m \u001b[0mk\u001b[0m\u001b[1;33m\u001b[0m\u001b[1;33m\u001b[0m\u001b[0m\n\u001b[0;32m     51\u001b[0m \u001b[1;33m\u001b[0m\u001b[0m\n\u001b[1;32m---> 52\u001b[1;33m                 \u001b[0mx_train\u001b[0m\u001b[1;33m,\u001b[0m \u001b[0my_train\u001b[0m\u001b[1;33m,\u001b[0m \u001b[0mx_valid\u001b[0m\u001b[1;33m,\u001b[0m \u001b[0my_valid\u001b[0m \u001b[1;33m=\u001b[0m \u001b[0mdata_valid\u001b[0m\u001b[1;33m(\u001b[0m\u001b[0mdata_x\u001b[0m\u001b[1;33m,\u001b[0m \u001b[0mdata_y\u001b[0m\u001b[1;33m,\u001b[0m\u001b[1;36m30\u001b[0m\u001b[1;33m,\u001b[0m \u001b[0mwin\u001b[0m\u001b[1;33m)\u001b[0m\u001b[1;33m\u001b[0m\u001b[1;33m\u001b[0m\u001b[0m\n\u001b[0m\u001b[0;32m     53\u001b[0m \u001b[1;33m\u001b[0m\u001b[0m\n\u001b[0;32m     54\u001b[0m                 \u001b[0mregressor\u001b[0m \u001b[1;33m=\u001b[0m \u001b[0mRandomForestClassifier\u001b[0m\u001b[1;33m(\u001b[0m\u001b[0mn_estimators\u001b[0m\u001b[1;33m=\u001b[0m\u001b[1;36m150\u001b[0m\u001b[1;33m)\u001b[0m\u001b[1;33m\u001b[0m\u001b[1;33m\u001b[0m\u001b[0m\n",
      "\u001b[1;32m~\\Documents\\GitHub\\Analisis_Baterias\\scripts\\preparacion_entrenamiento.py\u001b[0m in \u001b[0;36mdata_valid\u001b[1;34m(data_x, data_y, porcentaje, n, rs)\u001b[0m\n\u001b[0;32m     79\u001b[0m     \u001b[1;32mwhile\u001b[0m\u001b[1;33m(\u001b[0m\u001b[0mpor_act\u001b[0m\u001b[1;33m<\u001b[0m\u001b[0mpor_stop\u001b[0m\u001b[1;33m)\u001b[0m\u001b[1;33m:\u001b[0m\u001b[1;33m\u001b[0m\u001b[1;33m\u001b[0m\u001b[0m\n\u001b[0;32m     80\u001b[0m         \u001b[0midx\u001b[0m \u001b[1;33m=\u001b[0m \u001b[0mnp\u001b[0m\u001b[1;33m.\u001b[0m\u001b[0mrandom\u001b[0m\u001b[1;33m.\u001b[0m\u001b[0mrandint\u001b[0m\u001b[1;33m(\u001b[0m\u001b[1;36m0\u001b[0m\u001b[1;33m,\u001b[0m\u001b[0ml\u001b[0m\u001b[1;33m)\u001b[0m\u001b[1;33m\u001b[0m\u001b[1;33m\u001b[0m\u001b[0m\n\u001b[1;32m---> 81\u001b[1;33m         \u001b[0midx_fn\u001b[0m \u001b[1;33m=\u001b[0m \u001b[0midx\u001b[0m\u001b[1;33m+\u001b[0m\u001b[0mn\u001b[0m\u001b[1;33m-\u001b[0m\u001b[1;36m1\u001b[0m\u001b[1;33m\u001b[0m\u001b[1;33m\u001b[0m\u001b[0m\n\u001b[0m\u001b[0;32m     82\u001b[0m         \u001b[1;32mif\u001b[0m\u001b[1;33m(\u001b[0m\u001b[0midx_fn\u001b[0m\u001b[1;33m<\u001b[0m\u001b[0ml\u001b[0m\u001b[1;33m)\u001b[0m\u001b[1;33m:\u001b[0m\u001b[1;33m\u001b[0m\u001b[1;33m\u001b[0m\u001b[0m\n\u001b[0;32m     83\u001b[0m             \u001b[1;32mfor\u001b[0m \u001b[0mi\u001b[0m \u001b[1;32min\u001b[0m \u001b[0mrange\u001b[0m\u001b[1;33m(\u001b[0m\u001b[0mn\u001b[0m\u001b[1;33m)\u001b[0m\u001b[1;33m:\u001b[0m\u001b[1;33m\u001b[0m\u001b[1;33m\u001b[0m\u001b[0m\n",
      "\u001b[1;31mKeyboardInterrupt\u001b[0m: "
     ]
    }
   ],
   "source": [
    "#Sensibilidad Completa \n",
    "data_1 = df.values\n",
    "data_2 = df_2.values\n",
    "data = np.vstack((data_1,data_2))\n",
    "Nombres = df.columns.values\n",
    "\n",
    "n_caract = 2\n",
    "n_try = 2\n",
    "n_win = 2\n",
    "jump_ene = 2\n",
    "accu_ene = np.zeros((n_try,n_caract,win,jump_ene))\n",
    "\n",
    "\n",
    "\n",
    "\n",
    "for i in range(n_try):\n",
    "    for j in range (n_caract):\n",
    "        for k in range (n_win):\n",
    "            for l in range (jump_ene):\n",
    "                energi= 500+500*l\n",
    "                ind = np.where((data[:,1]>energi)) \n",
    "                data_fil = np.delete(data,ind,axis=0)\n",
    "\n",
    "                aux = data_fil[:,15].astype(np.float64)\n",
    "                ind_2 = np.argwhere(np.isnan(aux))\n",
    "                data_fil = np.delete(data_fil,ind_2,axis=0)\n",
    "\n",
    "                aux_2 = data_fil[:,21].astype(np.float64)\n",
    "                ind_3 = np.argwhere(np.isinf(aux_2))\n",
    "                data_fil = np.delete(data_fil,ind_3,axis=0)\n",
    "\n",
    "                data_temp = np.reshape(data_fil[:,8],(-1,1))\n",
    "                data_x = np.hstack((data_fil[:,1:4],data_temp,data_fil[:,10:23]))\n",
    "                Nombres_featu = np.hstack((Nombres[1:4],Nombres[8],Nombres[10:23]))\n",
    "\n",
    "\n",
    "                data_y = data_fil[:,-1]\n",
    "                data_y = data_y.astype(int)\n",
    "\n",
    "                scaler = StandardScaler()\n",
    "                scaler_data = scaler.fit_transform(data_x)\n",
    "\n",
    "                Sel_best = SelectKBest(mutual_info_classif, k=j)\n",
    "                Sel_best.fit(scaler_data, data_y)\n",
    "                Best_Sel = Sel_best.get_support()\n",
    "                Data_sel = [str(Nombres_featu[i])+\":\"+ str(Best_Sel[i]) for i in range(len(Best_Sel))]\n",
    "\n",
    "                data_x = Sel_best.transform(scaler_data)\n",
    "\n",
    "                win = k\n",
    "\n",
    "                x_train, y_train, x_valid, y_valid = data_valid(data_x, data_y,30, win)\n",
    "\n",
    "                regressor = RandomForestClassifier(n_estimators=150)\n",
    "                regressor.fit(x_train , y_train)\n",
    "                y_pred_act = regressor.predict(x_valid)\n",
    "\n",
    "                y_pred = Mean_n(y_pred_act,win)\n",
    "\n",
    "                accu_ene[i,j,k,l] = accuracy_score(y_valid, y_pred)\n",
    "                print(\"try:\",i+1,\"n° caract\",j+1,\"win: \",k+1,\"ener: \",l+1,\"accu_pre_fit: \",accuracy_score(y_valid, y_pred_act),\"accu_post_fit: \",accuracy_score(y_valid, y_pred))\n",
    "\n",
    "# accu_mean = np.mean(accu_ene,axis=0)\n",
    "# accu_std = np.std(accu_ene,axis = 0)\n",
    "# n_car = np.arange(len(accu_mean))\n",
    "\n",
    "# plt.errorbar(n_car,accu_mean,accu_std,linestyle='None',marker='^',ecolor='r',c='g')\n",
    "# plt.xlabel(\"n° caracteristicas\")\n",
    "# plt.ylabel(\"accuracy\")\n",
    "# plt.title(\"analisis de sensibilidad, %s iteraciones\" %n_try)"
   ]
  },
  {
   "cell_type": "code",
   "execution_count": null,
   "metadata": {},
   "outputs": [],
   "source": [
    "print(a)"
   ]
  },
  {
   "cell_type": "code",
   "execution_count": null,
   "metadata": {},
   "outputs": [],
   "source": []
  }
 ],
 "metadata": {
  "kernelspec": {
   "display_name": "Python 3",
   "language": "python",
   "name": "python3"
  },
  "language_info": {
   "codemirror_mode": {
    "name": "ipython",
    "version": 3
   },
   "file_extension": ".py",
   "mimetype": "text/x-python",
   "name": "python",
   "nbconvert_exporter": "python",
   "pygments_lexer": "ipython3",
   "version": "3.7.3"
  }
 },
 "nbformat": 4,
 "nbformat_minor": 2
}
